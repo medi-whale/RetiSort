{
 "cells": [
  {
   "cell_type": "code",
   "execution_count": 1,
   "metadata": {},
   "outputs": [
    {
     "name": "stdout",
     "output_type": "stream",
     "text": [
      "WARNING:tensorflow:From /home/mediwhale/.conda/envs/tensorflow_gpuenv/lib/python3.6/site-packages/tensorflow/python/framework/op_def_library.py:263: colocate_with (from tensorflow.python.framework.ops) is deprecated and will be removed in a future version.\n",
      "Instructions for updating:\n",
      "Colocations handled automatically by placer.\n"
     ]
    }
   ],
   "source": [
    "from PIL import Image\n",
    "import numpy as np\n",
    "import tensorflow as tf\n",
    "import os\n",
    "from tensorpack import *\n",
    "from tensorpack.tfutils.symbolic_functions import *\n",
    "from tensorpack.tfutils.summary import *\n",
    "from tflearn.layers.conv import global_avg_pool\n",
    "from tensorflow.contrib.layers import batch_norm, flatten\n",
    "from tensorflow.contrib.layers import xavier_initializer\n",
    "from tensorflow.contrib.framework import arg_scope"
   ]
  },
  {
   "cell_type": "code",
   "execution_count": 2,
   "metadata": {},
   "outputs": [],
   "source": [
    "height = 224\n",
    "width = 224"
   ]
  },
  {
   "cell_type": "code",
   "execution_count": 3,
   "metadata": {},
   "outputs": [],
   "source": [
    "def conv_layer(input, filter, kernel, stride=1, layer_name=\"conv\"):\n",
    "    with tf.name_scope(layer_name):\n",
    "        network = tf.layers.conv2d(inputs=input, use_bias=False, filters=filter, kernel_size=kernel, strides=stride, padding='SAME')\n",
    "        return network\n",
    "\n",
    "def Global_Average_Pooling(x, stride=1):\n",
    "    return global_avg_pool(x, name='Global_avg_pooling')\n",
    "\n",
    "\n",
    "\n",
    "def Batch_Normalization(x, training, scope):\n",
    "    with arg_scope([batch_norm],\n",
    "                   scope=scope,\n",
    "                   updates_collections=None,\n",
    "                   decay=0.9,\n",
    "                   center=True,\n",
    "                   scale=True,\n",
    "                   zero_debias_moving_mean=True) :\n",
    "        return tf.cond(training,\n",
    "                       lambda : batch_norm(inputs=x, is_training=training, reuse=None),\n",
    "                       lambda : batch_norm(inputs=x, is_training=training, reuse=True))\n",
    "\n",
    "def Drop_out(x, rate, training) :\n",
    "    return tf.layers.dropout(inputs=x, rate=rate, training=training)\n",
    "\n",
    "def Relu(x):\n",
    "    return tf.nn.relu(x)\n",
    "\n",
    "def Average_pooling(x, pool_size=[2,2], stride=2, padding='VALID'):\n",
    "    return tf.layers.average_pooling2d(inputs=x, pool_size=pool_size, strides=stride, padding=padding)\n",
    "\n",
    "\n",
    "def Max_Pooling(x, pool_size=[3,3], stride=2, padding='VALID'):\n",
    "    return tf.layers.max_pooling2d(inputs=x, pool_size=pool_size, strides=stride, padding=padding)\n",
    "\n",
    "def Concatenation(layers) :\n",
    "    return tf.concat(layers, axis=3)\n",
    "\n",
    "def Linear(x,units,name) :\n",
    "    return tf.layers.dense(inputs=x, units=units, name=name)\n",
    "\n",
    "def sigmoid(x):\n",
    "    return 1 / (1 + np.exp(-x))"
   ]
  },
  {
   "cell_type": "code",
   "execution_count": 4,
   "metadata": {},
   "outputs": [],
   "source": [
    "class VGG():\n",
    "    def __init__(self, x,training):\n",
    "        self.training = training\n",
    "        self.model = self.VGG(x)\n",
    "            \n",
    "    def VGG(self, x):\n",
    "        x1 = conv_layer(x, filter=64, kernel=[3,3],layer_name='conv1',stride=1)\n",
    "        x1 = Batch_Normalization(x1, training=self.training, scope='batch1')\n",
    "        x1 = Relu(x1)\n",
    "        x1 = conv_layer(x1, filter=64, kernel=[3,3],layer_name='conv2',stride=1)\n",
    "        x1 = Batch_Normalization(x1, training=self.training, scope='batch2')\n",
    "        x1 = Relu(x1)\n",
    "        x1 = Max_Pooling(x1,pool_size=[2,2],stride=2)\n",
    "        \n",
    "        x1 = conv_layer(x1, filter=128, kernel=[3,3],layer_name='conv3',stride=1)\n",
    "        x1 = Batch_Normalization(x1, training=self.training, scope='batch3')\n",
    "        x1 = Relu(x1)\n",
    "        x1 = conv_layer(x1, filter=128, kernel=[3,3],layer_name='conv4',stride=1)\n",
    "        x1 = Batch_Normalization(x1, training=self.training, scope='batch4')\n",
    "        x1 = Relu(x1)\n",
    "        x1 = Max_Pooling(x1,pool_size=[2,2],stride=2)\n",
    "        \n",
    "        x1 = conv_layer(x1, filter=256, kernel=[3,3],layer_name='conv5',stride=1)\n",
    "        x1 = Batch_Normalization(x1, training=self.training, scope='batch5')\n",
    "        x1 = Relu(x1)\n",
    "        x1 = conv_layer(x1, filter=256, kernel=[3,3],layer_name='conv6',stride=1)\n",
    "        x1 = Batch_Normalization(x1, training=self.training, scope='batch6')\n",
    "        x1 = Relu(x1)\n",
    "        x1 = conv_layer(x1, filter=256, kernel=[3,3],layer_name='conv7',stride=1)\n",
    "        x1 = Batch_Normalization(x1, training=self.training, scope='batch7')\n",
    "        x1 = Relu(x1)\n",
    "        x1 = Max_Pooling(x1,pool_size=[2,2],stride=2)\n",
    "        \n",
    "        x1 = conv_layer(x1, filter=512, kernel=[3,3],layer_name='conv8',stride=1)\n",
    "        x1 = Batch_Normalization(x1, training=self.training, scope='batch8')\n",
    "        x1 = Relu(x1)\n",
    "        x1 = conv_layer(x1, filter=512, kernel=[3,3],layer_name='conv9',stride=1)\n",
    "        x1 = Batch_Normalization(x1, training=self.training, scope='batch9')\n",
    "        x1 = Relu(x1)\n",
    "        x1 = conv_layer(x1, filter=512, kernel=[3,3],layer_name='conv10',stride=1)\n",
    "        x1 = Batch_Normalization(x1, training=self.training, scope='batch10')\n",
    "        x1 = Relu(x1)\n",
    "        x1 = Max_Pooling(x1,pool_size=[2,2],stride=2)\n",
    "        \n",
    "        x1 = conv_layer(x1, filter=512, kernel=[3,3],layer_name='conv11',stride=1)\n",
    "        x1 = Batch_Normalization(x1, training=self.training, scope='batch11')\n",
    "        x1 = Relu(x1)\n",
    "        x1 = conv_layer(x1, filter=512, kernel=[3,3],layer_name='conv12',stride=1)\n",
    "        x1 = Batch_Normalization(x1, training=self.training, scope='batch12')\n",
    "        x1 = Relu(x1)\n",
    "        x1 = conv_layer(x1, filter=512, kernel=[3,3],layer_name='conv13',stride=1)\n",
    "        \n",
    "        x1 = Global_Average_Pooling(x1)\n",
    "        x1 = flatten(x1)\n",
    "\n",
    "        clf_tensor = Linear(x1,1,\"clf\")\n",
    "        \n",
    "        \n",
    "        return tf.reshape(clf_tensor,[-1])"
   ]
  },
  {
   "cell_type": "code",
   "execution_count": 5,
   "metadata": {},
   "outputs": [
    {
     "name": "stdout",
     "output_type": "stream",
     "text": [
      "WARNING:tensorflow:From <ipython-input-3-deca46aad543>:3: conv2d (from tensorflow.python.layers.convolutional) is deprecated and will be removed in a future version.\n",
      "Instructions for updating:\n",
      "Use keras.layers.conv2d instead.\n",
      "WARNING:tensorflow:From <ipython-input-3-deca46aad543>:34: max_pooling2d (from tensorflow.python.layers.pooling) is deprecated and will be removed in a future version.\n",
      "Instructions for updating:\n",
      "Use keras.layers.max_pooling2d instead.\n",
      "WARNING:tensorflow:From /home/mediwhale/.conda/envs/tensorflow_gpuenv/lib/python3.6/site-packages/tensorflow/contrib/layers/python/layers/layers.py:1624: flatten (from tensorflow.python.layers.core) is deprecated and will be removed in a future version.\n",
      "Instructions for updating:\n",
      "Use keras.layers.flatten instead.\n",
      "WARNING:tensorflow:From <ipython-input-3-deca46aad543>:40: dense (from tensorflow.python.layers.core) is deprecated and will be removed in a future version.\n",
      "Instructions for updating:\n",
      "Use keras.layers.dense instead.\n"
     ]
    }
   ],
   "source": [
    "img_channels = 1\n",
    "x = tf.placeholder(tf.float32, shape=[None, height, width,img_channels])\n",
    "training_flag = tf.placeholder(tf.bool)\n",
    "logits = VGG(x=x,training=training_flag).model"
   ]
  },
  {
   "cell_type": "code",
   "execution_count": 6,
   "metadata": {},
   "outputs": [
    {
     "name": "stdout",
     "output_type": "stream",
     "text": [
      "WARNING:tensorflow:From <ipython-input-6-435521ed5a60>:4: checkpoint_exists (from tensorflow.python.training.checkpoint_management) is deprecated and will be removed in a future version.\n",
      "Instructions for updating:\n",
      "Use standard file APIs to check for files with this prefix.\n",
      "INFO:tensorflow:Restoring parameters from ./model/disc_classification_model/model.ckpt\n"
     ]
    }
   ],
   "source": [
    "saver = tf.train.Saver(tf.global_variables())\n",
    "sess = tf.Session()\n",
    "ckpt = tf.train.get_checkpoint_state('./model/disc_classification_model/')\n",
    "if ckpt and tf.train.checkpoint_exists(ckpt.model_checkpoint_path):\n",
    "    saver.restore(sess, ckpt.model_checkpoint_path)"
   ]
  },
  {
   "cell_type": "code",
   "execution_count": 7,
   "metadata": {},
   "outputs": [],
   "source": [
    "\n",
    "def crop_margin_PIL(image):\n",
    "    im = image\n",
    "    np_img = np.asarray(im)\n",
    "    mean_pix = np.mean(np_img)\n",
    "    pix = im.load()\n",
    "    height, width = im.size\n",
    "\n",
    "    c_x, c_y = (int(height / 2), int(width / 2))\n",
    "\n",
    "    for y in range(c_y):\n",
    "        if sum(pix[c_x, y]) > mean_pix:\n",
    "            left = (c_x, y)\n",
    "            break;\n",
    "\n",
    "    for x in range(c_x):\n",
    "        if sum(pix[x, c_y]) > mean_pix:\n",
    "            up = (x, c_y)\n",
    "            break;\n",
    "\n",
    "    crop_img = im.crop((up[0], left[1], left[0], up[1]))\n",
    "\n",
    "    diameter_height = up[1] - left[1]\n",
    "    diameter_width = left[0] - up[0]\n",
    "\n",
    "    crop_img = im.crop((up[0], left[1], left[0] + diameter_width, up[1] + diameter_height))\n",
    "\n",
    "    return crop_img\n",
    "\n",
    "def sigmoid(x):\n",
    "    return 1 / (1 + np.exp(-x))"
   ]
  },
  {
   "cell_type": "code",
   "execution_count": 8,
   "metadata": {},
   "outputs": [],
   "source": [
    "img_dir = \"/home/mediwhale/SEED/SEED_1/RETINA - SCES/SICC05/2009-02-09/CS50023/CS50023_KK00(POZ.002.JPG\"\n",
    "\n",
    "\n",
    "img = Image.open(img_dir)\n",
    "img = crop_margin_PIL(img)\n",
    "img = img.convert(\"L\").resize((height,width))\n",
    "\n",
    "img = np.array(img).reshape(height,width,1)\n",
    "img = img / 255.\n",
    "\n",
    "result = \"\""
   ]
  },
  {
   "cell_type": "code",
   "execution_count": 10,
   "metadata": {},
   "outputs": [],
   "source": [
    "feed_dict = {\n",
    "                x: [img],\n",
    "                training_flag : False\n",
    "            }\n",
    "\n",
    "r = sess.run(logits,feed_dict=feed_dict)\n",
    "r = sigmoid(r)"
   ]
  },
  {
   "cell_type": "code",
   "execution_count": 13,
   "metadata": {},
   "outputs": [],
   "source": [
    "\n",
    "if r[0] < 0.5 :\n",
    "    result = \"disc_focus_right\"\n",
    "else :\n",
    "    result = \"disc_focus_left\""
   ]
  },
  {
   "cell_type": "code",
   "execution_count": 14,
   "metadata": {},
   "outputs": [
    {
     "data": {
      "text/plain": [
       "'disc_focus_right'"
      ]
     },
     "execution_count": 14,
     "metadata": {},
     "output_type": "execute_result"
    }
   ],
   "source": [
    "result"
   ]
  }
 ],
 "metadata": {
  "kernelspec": {
   "display_name": "Python tf",
   "language": "python",
   "name": "tensorflow_gpuenv"
  },
  "language_info": {
   "codemirror_mode": {
    "name": "ipython",
    "version": 3
   },
   "file_extension": ".py",
   "mimetype": "text/x-python",
   "name": "python",
   "nbconvert_exporter": "python",
   "pygments_lexer": "ipython3",
   "version": "3.6.8"
  }
 },
 "nbformat": 4,
 "nbformat_minor": 2
}
